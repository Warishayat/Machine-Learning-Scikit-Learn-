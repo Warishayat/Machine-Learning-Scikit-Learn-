{
 "cells": [
  {
   "cell_type": "code",
   "execution_count": 64,
   "id": "d4c308d2-6ee6-4ee9-b6ed-d4a171cd7043",
   "metadata": {},
   "outputs": [
    {
     "name": "stderr",
     "output_type": "stream",
     "text": [
      "C:\\Users\\Waris Hayyat\\AppData\\Local\\Programs\\Python\\Python312\\Lib\\site-packages\\sklearn\\neural_network\\_multilayer_perceptron.py:691: ConvergenceWarning: Stochastic Optimizer: Maximum iterations (1000) reached and the optimization hasn't converged yet.\n",
      "  warnings.warn(\n"
     ]
    },
    {
     "name": "stdin",
     "output_type": "stream",
     "text": [
      "Enter hour that you studied 3\n",
      "Enter hour previous exam score 55\n"
     ]
    },
    {
     "name": "stdout",
     "output_type": "stream",
     "text": [
      "Predict Exam outcome for new student is:pass\n"
     ]
    }
   ],
   "source": [
    "import numpy as np\n",
    "import pandas as pd\n",
    "import seaborn as sns\n",
    "from sklearn.neural_network import MLPClassifier  #multi layer perception\n",
    "from sklearn.preprocessing import LabelEncoder\n",
    "\n",
    "#Problem: (Neural Network)---> you are tasked with creating a neural network model to predict weather a student will be pass of fail on exam based two feature.\n",
    "#hours studied and privious exams score.the dataset should contain information on hours studies and privious exam score for a group of students along with their exam\n",
    "#along with thier exam output pass or fail.\n",
    "\n",
    "hours_studied= [2.5,1.5,3.0,1.8,4.0,2.0,3.5,2.7]\n",
    "Prev_score=[80,70,75,60,85,80,90,65]\n",
    "result=[\"pass\",\"fail\",\"pass\",\"fail\",\"pass\",\"pass\",\"pass\",\"fail\"]\n",
    "\n",
    "le=LabelEncoder()\n",
    "result=le.fit_transform(result)\n",
    "\n",
    "x=np.column_stack((hours_studied,Prev_score))\n",
    "y=result\n",
    "\n",
    "clf=MLPClassifier(hidden_layer_sizes=(4,),activation=\"logistic\",max_iter=1000,random_state=42) #random state for seeding \n",
    "\n",
    "clf.fit(x,y)\n",
    "std_hour=int(input(\"Enter hour that you studied\"))\n",
    "prv_scr=int(input(\"Enter hour previous exam score\"))\n",
    "new_Student_data=[[std_hour,prv_scr]]\n",
    "label=clf.predict(new_Student_data)\n",
    "label_decode=le.inverse_transform(label)\n",
    "print(\"Predict Exam outcome for new student is:{}\".format(label_decode[0]))"
   ]
  },
  {
   "cell_type": "code",
   "execution_count": null,
   "id": "9fb596fd-f8cc-4e1b-92e5-b080612f0860",
   "metadata": {},
   "outputs": [],
   "source": []
  }
 ],
 "metadata": {
  "kernelspec": {
   "display_name": "Python 3 (ipykernel)",
   "language": "python",
   "name": "python3"
  },
  "language_info": {
   "codemirror_mode": {
    "name": "ipython",
    "version": 3
   },
   "file_extension": ".py",
   "mimetype": "text/x-python",
   "name": "python",
   "nbconvert_exporter": "python",
   "pygments_lexer": "ipython3",
   "version": "3.12.0"
  },
  "widgets": {
   "application/vnd.jupyter.widget-state+json": {
    "state": {},
    "version_major": 2,
    "version_minor": 0
   }
  }
 },
 "nbformat": 4,
 "nbformat_minor": 5
}
