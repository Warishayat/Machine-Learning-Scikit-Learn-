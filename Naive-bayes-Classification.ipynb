{
 "cells": [
  {
   "cell_type": "code",
   "execution_count": null,
   "id": "3a7a79c8-6ce1-41ae-87c0-c7efb0e48a33",
   "metadata": {},
   "outputs": [],
   "source": [
    "#Problem: predict Text classification Model to categories the customer review into positive and negative sentiments mean good or bad.they want to use nayve base classification \n",
    "#to analayze the reviewse to analyse the customer.\n",
    "import numpy as np\n",
    "import pandas as pd\n",
    "from sklearn.feature_extraction.text import CountVectorizer #it convert text to matrix\n",
    "from sklearn.naive_bayes import MultinomialNB   #ITS THE CLASSIFIER OF NAYVE BAYES \n",
    "reviews=[\"Product is excellent\",\"This product is awesome\",\"This product is pathetic\",\"This is good looking product\",\"This is money wasting product\",\"i love this product\",\"it is budget friendly\",\"completely wasted\",\"Not good\",\"satisfied with the product\"]\n",
    "label=np.array([1,1,0,1,0,1,1,0,0,1]) #output label\n",
    "#donot need to import train test split CountVectorizer handle all the thing here.\n",
    "vectorizer=CountVectorizer()\n",
    "token=vectorizer.fit_transform(reviews) \n",
    "Model=MultinomialNB()\n",
    "Model.fit(token,label)   #here model will be train on the label and review.\n",
    "#Now make the pridiction\n",
    "while True:\n",
    "    def classift_new_review(review):\n",
    "        make_token=review\n",
    "        make_token=vectorizer.fit_transform(make_token)\n",
    "        result=Model.predict(make_token)\n",
    "        if result[0]==1:\n",
    "            return \"Woho Customer review is positive.\"\n",
    "        else:\n",
    "            return \"Alas Customer review is negative.\"\n",
    "review=input(\"Enter your review:-\")\n",
    "print(\"\",classift_new_review(review))"
   ]
  },
  {
   "cell_type": "code",
   "execution_count": null,
   "id": "dd733b0b-d582-44f3-b976-313e58c2bcd2",
   "metadata": {},
   "outputs": [],
   "source": []
  },
  {
   "cell_type": "code",
   "execution_count": null,
   "id": "70e26cb3-0cea-4f5f-ae02-ff684a43778a",
   "metadata": {},
   "outputs": [],
   "source": []
  },
  {
   "cell_type": "code",
   "execution_count": null,
   "id": "09d2ddd0-b729-4a62-a15f-b476b3775c5c",
   "metadata": {},
   "outputs": [],
   "source": []
  }
 ],
 "metadata": {
  "kernelspec": {
   "display_name": "Python 3 (ipykernel)",
   "language": "python",
   "name": "python3"
  },
  "language_info": {
   "codemirror_mode": {
    "name": "ipython",
    "version": 3
   },
   "file_extension": ".py",
   "mimetype": "text/x-python",
   "name": "python",
   "nbconvert_exporter": "python",
   "pygments_lexer": "ipython3",
   "version": "3.12.0"
  },
  "widgets": {
   "application/vnd.jupyter.widget-state+json": {
    "state": {},
    "version_major": 2,
    "version_minor": 0
   }
  }
 },
 "nbformat": 4,
 "nbformat_minor": 5
}
