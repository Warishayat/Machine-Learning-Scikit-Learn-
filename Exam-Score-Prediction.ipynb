{
 "cells": [
  {
   "cell_type": "code",
   "execution_count": 12,
   "id": "33494993-10e9-4299-8012-4468013e37bc",
   "metadata": {},
   "outputs": [
    {
     "ename": "SyntaxError",
     "evalue": "incomplete input (2089377317.py, line 23)",
     "output_type": "error",
     "traceback": [
      "\u001b[1;36m  Cell \u001b[1;32mIn[12], line 23\u001b[1;36m\u001b[0m\n\u001b[1;33m    \u001b[0m\n\u001b[1;37m    ^\u001b[0m\n\u001b[1;31mSyntaxError\u001b[0m\u001b[1;31m:\u001b[0m incomplete input\n"
     ]
    }
   ],
   "source": [
    "            #create a model and predict the exam_marks of the students on the basis of the attendance and study hours.\n",
    "import numpy as np\n",
    "import pandas as pd\n",
    "import matplotlib.pyplot as plt\n",
    "from sklearn.model_selection import train_test_split\n",
    "from sklearn.linear_model import LinearRegression\n",
    "df=pd.read_csv(\"C:\\\\Users\\\\Waris Hayyat\\\\Desktop\\\\Machine-Learning-Model\\\\mediation1.csv\")\n",
    "df\n",
    "x=df[[\"Attend\",\"Hrw\"]]                          #Convert the independent variable to x\n",
    "y=df[[\"Marks\"]]                                 #Convert the dependent variable to y\n",
    "x_train,x_test,y_train,y_test=train_test_split(x,y,test_size=0.2,random_state=42)\n",
    "Model=LinearRegression()\n",
    "Model.fit(x_train,y_train)              #fit the data into the LinearRegression Model\n",
    "accuracy=Model.score(x_test,y_test)    #to check the model accuracy\n",
    "#Now taking input from the user wheather to check model pridiction\n",
    "while(True):\n",
    "    try:\n",
    "        attended_per=int(input(\"Enter the attendence percentage: \"))\n",
    "        study_hours=int(input(\"Enter the hour that you studied daily: \"))\n",
    "        prediction=int(Model.predict([[attended_per,study_hours]]))        #Model prediction\n",
    "        total_marks=20\n",
    "        print(f\"The Model predict you can score {prediction} out {total_marks}.\")     #Output_form\n",
    "        user_input=int(input(\"\"\"Do you want to continue:\n",
    "            Y: for continue\n",
    "            N: for break \"\"\"))\n",
    "        if (user_input).lower()=='y':\n",
    "            continue\n",
    "        elif user_input.lower()=='n':\n",
    "            break\n",
    "        else:\n",
    "            print(\"You make some value Error\")\n",
    "    except :\n",
    "        print(\"You make some valueError\")"
   ]
  },
  {
   "cell_type": "code",
   "execution_count": null,
   "id": "f16fa6b3-d35b-4f7c-9176-5edfd1f4abbf",
   "metadata": {},
   "outputs": [
    {
     "name": "stderr",
     "output_type": "stream",
     "text": [
      "C:\\Users\\Waris Hayyat\\AppData\\Local\\Temp\\ipykernel_9264\\2707257590.py:2: DeprecationWarning: \n",
      "Pyarrow will become a required dependency of pandas in the next major release of pandas (pandas 3.0),\n",
      "(to allow more performant data types, such as the Arrow string type, and better interoperability with other libraries)\n",
      "but was not found to be installed on your system.\n",
      "If this would cause problems for you,\n",
      "please provide us feedback at https://github.com/pandas-dev/pandas/issues/54466\n",
      "        \n",
      "  import pandas as pd\n"
     ]
    },
    {
     "name": "stdin",
     "output_type": "stream",
     "text": [
      "Enter the attendance percentage:  98\n",
      "Enter the hours that you studied daily:  13\n"
     ]
    },
    {
     "name": "stderr",
     "output_type": "stream",
     "text": [
      "C:\\Users\\Waris Hayyat\\AppData\\Local\\Programs\\Python\\Python312\\Lib\\site-packages\\sklearn\\base.py:493: UserWarning: X does not have valid feature names, but LinearRegression was fitted with feature names\n",
      "  warnings.warn(\n",
      "C:\\Users\\Waris Hayyat\\AppData\\Local\\Temp\\ipykernel_9264\\2707257590.py:30: DeprecationWarning: Conversion of an array with ndim > 0 to a scalar is deprecated, and will error in future. Ensure you extract a single element from your array before performing this operation. (Deprecated NumPy 1.25.)\n",
      "  prediction = int(Model.predict([[attended_per, study_hours]]))\n"
     ]
    },
    {
     "name": "stdout",
     "output_type": "stream",
     "text": [
      "The Model predicts you can score 15 out of 20.\n"
     ]
    },
    {
     "name": "stdin",
     "output_type": "stream",
     "text": [
      "Do you want to continue:\n",
      "        Y: for continue\n",
      "        N: for break  y\n",
      "Enter the attendance percentage:  75\n",
      "Enter the hours that you studied daily:  12\n"
     ]
    },
    {
     "name": "stderr",
     "output_type": "stream",
     "text": [
      "C:\\Users\\Waris Hayyat\\AppData\\Local\\Programs\\Python\\Python312\\Lib\\site-packages\\sklearn\\base.py:493: UserWarning: X does not have valid feature names, but LinearRegression was fitted with feature names\n",
      "  warnings.warn(\n",
      "C:\\Users\\Waris Hayyat\\AppData\\Local\\Temp\\ipykernel_9264\\2707257590.py:30: DeprecationWarning: Conversion of an array with ndim > 0 to a scalar is deprecated, and will error in future. Ensure you extract a single element from your array before performing this operation. (Deprecated NumPy 1.25.)\n",
      "  prediction = int(Model.predict([[attended_per, study_hours]]))\n"
     ]
    },
    {
     "name": "stdout",
     "output_type": "stream",
     "text": [
      "The Model predicts you can score 11 out of 20.\n"
     ]
    }
   ],
   "source": [
    "import numpy as np\n",
    "import pandas as pd\n",
    "from sklearn.model_selection import train_test_split\n",
    "from sklearn.linear_model import LinearRegression\n",
    "\n",
    "# Load the dataset\n",
    "df = pd.read_csv(\"C:\\\\Users\\\\Waris Hayyat\\\\Desktop\\\\Machine-Learning-Model\\\\mediation1.csv\")\n",
    "\n",
    "# Separate independent and dependent variables\n",
    "x = df[[\"Attend\", \"Hrw\"]]\n",
    "y = df[[\"Marks\"]]\n",
    "\n",
    "# Split the data into training and testing sets\n",
    "x_train, x_test, y_train, y_test = train_test_split(x, y, test_size=0.2, random_state=42)\n",
    "\n",
    "# Create and train the Linear Regression model\n",
    "Model = LinearRegression()\n",
    "Model.fit(x_train, y_train)\n",
    "\n",
    "# Check the model accuracy\n",
    "accuracy = Model.score(x_test, y_test)\n",
    "\n",
    "# Now taking input from the user to check model prediction\n",
    "while True:\n",
    "    try:\n",
    "        attended_per = int(input(\"Enter the attendance percentage: \"))\n",
    "        study_hours = int(input(\"Enter the hours that you studied daily: \"))\n",
    "        \n",
    "        # Model prediction\n",
    "        prediction = int(Model.predict([[attended_per, study_hours]]))\n",
    "        total_marks = 20\n",
    "        \n",
    "        # Output\n",
    "        print(f\"The Model predicts you can score {prediction} out of {total_marks}.\")\n",
    "        \n",
    "        user_input = input(\"\"\"Do you want to continue:\n",
    "        Y: for continue\n",
    "        N: for break \"\"\").lower()\n",
    "        \n",
    "        if user_input == 'y':\n",
    "            continue\n",
    "        elif user_input == 'n':\n",
    "            break\n",
    "        else:\n",
    "            print(\"You made some value error\")\n",
    "    except ValueError:\n",
    "        print(\"You made some value error\")\n"
   ]
  },
  {
   "cell_type": "code",
   "execution_count": null,
   "id": "68d45c9f-ed08-43a9-b800-b6c6cc6b4a3a",
   "metadata": {},
   "outputs": [],
   "source": []
  },
  {
   "cell_type": "code",
   "execution_count": null,
   "id": "29611097-8aed-43e6-86b6-4aa17b95953c",
   "metadata": {},
   "outputs": [],
   "source": []
  },
  {
   "cell_type": "code",
   "execution_count": null,
   "id": "abcd3f6b-0f98-4af4-800d-9fe01c9d6fcf",
   "metadata": {},
   "outputs": [],
   "source": []
  },
  {
   "cell_type": "code",
   "execution_count": null,
   "id": "bfee2bb9-80a9-42c4-bde9-c130be34e7a8",
   "metadata": {},
   "outputs": [],
   "source": []
  },
  {
   "cell_type": "code",
   "execution_count": null,
   "id": "0a539205-0a40-410c-93be-15cfbdeee87e",
   "metadata": {},
   "outputs": [],
   "source": []
  },
  {
   "cell_type": "code",
   "execution_count": null,
   "id": "bbc12b85-67ad-4ce5-8221-5087c1028845",
   "metadata": {},
   "outputs": [],
   "source": []
  },
  {
   "cell_type": "code",
   "execution_count": null,
   "id": "dc7891de-e243-4f3d-a9e1-1ed7028c30ac",
   "metadata": {},
   "outputs": [],
   "source": []
  },
  {
   "cell_type": "code",
   "execution_count": null,
   "id": "52a37bf8-2b17-4e1a-a505-63182e97c934",
   "metadata": {},
   "outputs": [],
   "source": []
  },
  {
   "cell_type": "code",
   "execution_count": null,
   "id": "4df3dd56-7b3e-4fdf-b67a-5d9403468b46",
   "metadata": {},
   "outputs": [],
   "source": []
  }
 ],
 "metadata": {
  "kernelspec": {
   "display_name": "Python 3 (ipykernel)",
   "language": "python",
   "name": "python3"
  },
  "language_info": {
   "codemirror_mode": {
    "name": "ipython",
    "version": 3
   },
   "file_extension": ".py",
   "mimetype": "text/x-python",
   "name": "python",
   "nbconvert_exporter": "python",
   "pygments_lexer": "ipython3",
   "version": "3.12.0"
  },
  "widgets": {
   "application/vnd.jupyter.widget-state+json": {
    "state": {},
    "version_major": 2,
    "version_minor": 0
   }
  }
 },
 "nbformat": 4,
 "nbformat_minor": 5
}
