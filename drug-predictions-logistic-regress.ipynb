{
 "cells": [
  {
   "cell_type": "markdown",
   "id": "01626959",
   "metadata": {
    "_cell_guid": "b1076dfc-b9ad-4769-8c92-a6c4dae69d19",
    "_uuid": "8f2839f25d086af736a60e9eeb907d3b93b6e0e5",
    "execution": {
     "iopub.execute_input": "2024-02-27T22:11:52.693826Z",
     "iopub.status.busy": "2024-02-27T22:11:52.693489Z"
    },
    "papermill": {
     "duration": 0.002683,
     "end_time": "2024-02-28T18:38:13.810937",
     "exception": false,
     "start_time": "2024-02-28T18:38:13.808254",
     "status": "completed"
    },
    "tags": []
   },
   "source": [
    "#Below down i mentioned my source code \n",
    "1:first i download the raw data set from kaggle for predicting Drug.\n",
    "2: i clean all the mess from data/Use NumPy/Pandas for data cleaning.\n",
    "3: use labelEncoder,OrdinalEncoder,OneHotEncoder for Data Cleaning.\n",
    "4:Use Sklearn for implies the machine learning algoritham.\n",
    "5:Use LogisticRegression algoritham to make pridiction.\n",
    "6:Model Acuuracy is 85%.\n",
    "7:We pass Age as an int input // then Bp as an int input,Choloestrol as a int input,Sex and Bp as an int.\n",
    "8:On the basis of all these independent variables we prict the Drug type which is depend on all these thing.\n"
   ]
  },
  {
   "cell_type": "code",
   "execution_count": 1,
   "id": "d598ff13",
   "metadata": {
    "execution": {
     "iopub.execute_input": "2024-02-28T18:38:13.817921Z",
     "iopub.status.busy": "2024-02-28T18:38:13.817538Z",
     "iopub.status.idle": "2024-02-28T18:38:17.261039Z",
     "shell.execute_reply": "2024-02-28T18:38:17.259525Z"
    },
    "papermill": {
     "duration": 3.449693,
     "end_time": "2024-02-28T18:38:17.263053",
     "exception": true,
     "start_time": "2024-02-28T18:38:13.813360",
     "status": "failed"
    },
    "tags": []
   },
   "outputs": [
    {
     "name": "stderr",
     "output_type": "stream",
     "text": [
      "/opt/conda/lib/python3.10/site-packages/sklearn/preprocessing/_encoders.py:868: FutureWarning: `sparse` was renamed to `sparse_output` in version 1.2 and will be removed in 1.4. `sparse_output` is ignored unless you leave `sparse` to its default value.\n",
      "  warnings.warn(\n",
      "/opt/conda/lib/python3.10/site-packages/sklearn/preprocessing/_encoders.py:868: FutureWarning: `sparse` was renamed to `sparse_output` in version 1.2 and will be removed in 1.4. `sparse_output` is ignored unless you leave `sparse` to its default value.\n",
      "  warnings.warn(\n",
      "/opt/conda/lib/python3.10/site-packages/sklearn/preprocessing/_label.py:99: DataConversionWarning: A column-vector y was passed when a 1d array was expected. Please change the shape of y to (n_samples, ), for example using ravel().\n",
      "  y = column_or_1d(y, warn=True)\n",
      "/opt/conda/lib/python3.10/site-packages/sklearn/preprocessing/_label.py:134: DataConversionWarning: A column-vector y was passed when a 1d array was expected. Please change the shape of y to (n_samples, ), for example using ravel().\n",
      "  y = column_or_1d(y, dtype=self.classes_.dtype, warn=True)\n",
      "/opt/conda/lib/python3.10/site-packages/sklearn/utils/validation.py:1143: DataConversionWarning: A column-vector y was passed when a 1d array was expected. Please change the shape of y to (n_samples, ), for example using ravel().\n",
      "  y = column_or_1d(y, warn=True)\n",
      "/opt/conda/lib/python3.10/site-packages/sklearn/linear_model/_logistic.py:458: ConvergenceWarning: lbfgs failed to converge (status=1):\n",
      "STOP: TOTAL NO. of ITERATIONS REACHED LIMIT.\n",
      "\n",
      "Increase the number of iterations (max_iter) or scale the data as shown in:\n",
      "    https://scikit-learn.org/stable/modules/preprocessing.html\n",
      "Please also refer to the documentation for alternative solver options:\n",
      "    https://scikit-learn.org/stable/modules/linear_model.html#logistic-regression\n",
      "  n_iter_i = _check_optimize_result(\n"
     ]
    },
    {
     "name": "stdout",
     "output_type": "stream",
     "text": [
      "<class 'pandas.core.frame.DataFrame'>\n",
      "RangeIndex: 200 entries, 0 to 199\n",
      "Data columns (total 6 columns):\n",
      " #   Column       Non-Null Count  Dtype  \n",
      "---  ------       --------------  -----  \n",
      " 0   Age          200 non-null    int64  \n",
      " 1   Sex          200 non-null    float64\n",
      " 2   BP           200 non-null    float64\n",
      " 3   Cholesterol  200 non-null    float64\n",
      " 4   Na_to_K      200 non-null    float64\n",
      " 5   Drug         200 non-null    int64  \n",
      "dtypes: float64(4), int64(2)\n",
      "memory usage: 9.5 KB\n",
      "Your LinearRegression model have the accuracy of:85.0%\n"
     ]
    },
    {
     "ename": "StdinNotImplementedError",
     "evalue": "raw_input was called, but this frontend does not support input requests.",
     "output_type": "error",
     "traceback": [
      "\u001b[0;31m---------------------------------------------------------------------------\u001b[0m",
      "\u001b[0;31mStdinNotImplementedError\u001b[0m                  Traceback (most recent call last)",
      "Cell \u001b[0;32mIn[1], line 45\u001b[0m\n\u001b[1;32m     43\u001b[0m     \u001b[38;5;66;03m#Now make the pridiction:\u001b[39;00m\n\u001b[1;32m     44\u001b[0m \u001b[38;5;28;01mwhile\u001b[39;00m(\u001b[38;5;28;01mTrue\u001b[39;00m):\n\u001b[0;32m---> 45\u001b[0m         age\u001b[38;5;241m=\u001b[39m\u001b[38;5;28mfloat\u001b[39m(\u001b[38;5;28;43minput\u001b[39;49m\u001b[43m(\u001b[49m\u001b[38;5;124;43m\"\u001b[39;49m\u001b[38;5;124;43mEnter the age: \u001b[39;49m\u001b[38;5;124;43m\"\u001b[39;49m\u001b[43m)\u001b[49m)\n\u001b[1;32m     46\u001b[0m         sex\u001b[38;5;241m=\u001b[39m\u001b[38;5;28mfloat\u001b[39m(\u001b[38;5;28minput\u001b[39m(\u001b[38;5;124m\"\u001b[39m\u001b[38;5;124mEnter you sex (0: for female,1: for male: \u001b[39m\u001b[38;5;124m\"\u001b[39m))\n\u001b[1;32m     47\u001b[0m         Cholesterol\u001b[38;5;241m=\u001b[39m\u001b[38;5;28mfloat\u001b[39m(\u001b[38;5;28minput\u001b[39m(\u001b[38;5;124m\"\u001b[39m\u001b[38;5;124mEnter your cholestrol(0: for high,1: for Normal):\u001b[39m\u001b[38;5;124m\"\u001b[39m))\n",
      "File \u001b[0;32m/opt/conda/lib/python3.10/site-packages/ipykernel/kernelbase.py:1261\u001b[0m, in \u001b[0;36mKernel.raw_input\u001b[0;34m(self, prompt)\u001b[0m\n\u001b[1;32m   1259\u001b[0m \u001b[38;5;28;01mif\u001b[39;00m \u001b[38;5;129;01mnot\u001b[39;00m \u001b[38;5;28mself\u001b[39m\u001b[38;5;241m.\u001b[39m_allow_stdin:\n\u001b[1;32m   1260\u001b[0m     msg \u001b[38;5;241m=\u001b[39m \u001b[38;5;124m\"\u001b[39m\u001b[38;5;124mraw_input was called, but this frontend does not support input requests.\u001b[39m\u001b[38;5;124m\"\u001b[39m\n\u001b[0;32m-> 1261\u001b[0m     \u001b[38;5;28;01mraise\u001b[39;00m StdinNotImplementedError(msg)\n\u001b[1;32m   1262\u001b[0m \u001b[38;5;28;01mreturn\u001b[39;00m \u001b[38;5;28mself\u001b[39m\u001b[38;5;241m.\u001b[39m_input_request(\n\u001b[1;32m   1263\u001b[0m     \u001b[38;5;28mstr\u001b[39m(prompt),\n\u001b[1;32m   1264\u001b[0m     \u001b[38;5;28mself\u001b[39m\u001b[38;5;241m.\u001b[39m_parent_ident[\u001b[38;5;124m\"\u001b[39m\u001b[38;5;124mshell\u001b[39m\u001b[38;5;124m\"\u001b[39m],\n\u001b[1;32m   1265\u001b[0m     \u001b[38;5;28mself\u001b[39m\u001b[38;5;241m.\u001b[39mget_parent(\u001b[38;5;124m\"\u001b[39m\u001b[38;5;124mshell\u001b[39m\u001b[38;5;124m\"\u001b[39m),\n\u001b[1;32m   1266\u001b[0m     password\u001b[38;5;241m=\u001b[39m\u001b[38;5;28;01mFalse\u001b[39;00m,\n\u001b[1;32m   1267\u001b[0m )\n",
      "\u001b[0;31mStdinNotImplementedError\u001b[0m: raw_input was called, but this frontend does not support input requests."
     ]
    }
   ],
   "source": [
    "import pandas as pd\n",
    "import numpy as np\n",
    "import matplotlib.pyplot as plt\n",
    "from sklearn.preprocessing import LabelEncoder\n",
    "from sklearn.preprocessing import OneHotEncoder\n",
    "from sklearn.preprocessing import OrdinalEncoder\n",
    "from sklearn.model_selection import train_test_split\n",
    "from sklearn.linear_model import LogisticRegression\n",
    "df=pd.read_csv(\"/kaggle/input/drug-classification/drug200.csv\")\n",
    "pd.set_option('display.max_columns', None)\n",
    "df.isnull().sum()\n",
    "df.Sex.value_counts()\n",
    "df.BP.value_counts()\n",
    "df.Cholesterol.value_counts()\n",
    "df.Drug.value_counts()\n",
    "data=[[\"LOW\",\"NORMAL\",\"HIGH\"]]\n",
    "Oe=OrdinalEncoder(categories=data)\n",
    "Oe.fit(df[[\"BP\"]])\n",
    "df[\"BP\"]=Oe.transform(df[[\"BP\"]])\n",
    "df.Cholesterol.value_counts()\n",
    "#0 for high and 1 for normal\n",
    "Ohe=OneHotEncoder(sparse=False ,drop=\"first\")\n",
    "Ohe.fit(df[[\"Cholesterol\"]])\n",
    "df[\"Cholesterol\"]=Ohe.transform(df[[\"Cholesterol\"]])\n",
    "df.Sex.value_counts()\n",
    "#O For Female and 1 for Male Sex\n",
    "OHe=OneHotEncoder(sparse=False,drop=\"first\")\n",
    "OHe.fit(df[[\"Sex\"]])\n",
    "df[\"Sex\"]=OHe.transform(df[[\"Sex\"]])\n",
    "df.Drug.value_counts()\n",
    "#(0 for Drugy) (3 for DrugC) (4 for Drugx)\n",
    "le=LabelEncoder()\n",
    "le.fit(df[[\"Drug\"]])\n",
    "df[\"Drug\"]=le.transform(df[[\"Drug\"]])\n",
    "df.info()\n",
    "x=df[[\"Age\",\"Sex\",\"Cholesterol\",\"Na_to_K\",\"BP\"]] #independent variable into x\n",
    "y=df[[\"Drug\"]]   #Dependent variable into y\n",
    "x_train,x_test,y_train,y_test=train_test_split(x,y,test_size=0.2,random_state=0)\n",
    "Model=LogisticRegression()\n",
    "Model.fit(x_train,y_train)\n",
    "accuracy=Model.score(x_test,y_test)*100\n",
    "print(f\"Your LinearRegression model have the accuracy of:{accuracy}%\")\n",
    "    #Now make the pridiction:\n",
    "while(True):\n",
    "        age=float(input(\"Enter the age: \"))\n",
    "        sex=float(input(\"Enter you sex (0: for female,1: for male: \"))\n",
    "        Cholesterol=float(input(\"Enter your cholestrol(0: for high,1: for Normal):\"))\n",
    "        Na_to_K=float(input(\"Enter Na_to_K :\"))\n",
    "        BP=float(input(\"Enter your Bp (0:for low,1:for normal,2:for High):\"))\n",
    "\n",
    "        result=Model.predict([[age,sex,Cholesterol,Na_to_K,BP]])\n",
    "        if result[0]==0:\n",
    "            print(\"Model predict you have drugged : DRUG-Y \")\n",
    "        elif result[0]==1:\n",
    "            print(\"Model predict you have drugged: DRUG-A\" )\n",
    "        elif result[0]==2:\n",
    "            print(\"Model predict you have drugged: DRUG-B\")\n",
    "        elif result[0]==3:\n",
    "            print(\"Model predict you have drugged: DRUG-C \")\n",
    "        else:\n",
    "            print(\"Model predict you have drugged: DRUG-X\")\n",
    "        user_input=input(\"Wana predict again or break the program:(y for yes else break)\").lower()\n",
    "        if user_input!='y':\n",
    "            break\n"
   ]
  },
  {
   "cell_type": "code",
   "execution_count": null,
   "id": "a53188b4",
   "metadata": {
    "papermill": {
     "duration": null,
     "end_time": null,
     "exception": null,
     "start_time": null,
     "status": "pending"
    },
    "tags": []
   },
   "outputs": [],
   "source": []
  }
 ],
 "metadata": {
  "kaggle": {
   "accelerator": "none",
   "dataSources": [
    {
     "datasetId": 830916,
     "sourceId": 1419436,
     "sourceType": "datasetVersion"
    }
   ],
   "dockerImageVersionId": 30646,
   "isGpuEnabled": false,
   "isInternetEnabled": true,
   "language": "python",
   "sourceType": "notebook"
  },
  "kernelspec": {
   "display_name": "Python 3",
   "language": "python",
   "name": "python3"
  },
  "language_info": {
   "codemirror_mode": {
    "name": "ipython",
    "version": 3
   },
   "file_extension": ".py",
   "mimetype": "text/x-python",
   "name": "python",
   "nbconvert_exporter": "python",
   "pygments_lexer": "ipython3",
   "version": "3.10.13"
  },
  "papermill": {
   "default_parameters": {},
   "duration": 7.185845,
   "end_time": "2024-02-28T18:38:17.888037",
   "environment_variables": {},
   "exception": true,
   "input_path": "__notebook__.ipynb",
   "output_path": "__notebook__.ipynb",
   "parameters": {},
   "start_time": "2024-02-28T18:38:10.702192",
   "version": "2.5.0"
  }
 },
 "nbformat": 4,
 "nbformat_minor": 5
}
